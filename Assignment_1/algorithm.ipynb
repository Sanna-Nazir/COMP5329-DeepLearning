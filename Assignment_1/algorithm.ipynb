{
  "nbformat": 4,
  "nbformat_minor": 0,
  "metadata": {
    "colab": {
      "name": "DL_Assignment_fin",
      "provenance": [],
      "collapsed_sections": [],
      "toc_visible": true
    },
    "kernelspec": {
      "name": "python3",
      "display_name": "Python 3"
    }
  },
  "cells": [
    {
      "cell_type": "markdown",
      "metadata": {
        "id": "D7lso1DqOyKS",
        "colab_type": "text"
      },
      "source": [
        "#  **1**  **LIBRARIES**"
      ]
    },
    {
      "cell_type": "code",
      "metadata": {
        "id": "H7cAL17iNyCf",
        "colab_type": "code",
        "colab": {}
      },
      "source": [
        "#importing all necessary libraries\n",
        "import h5py\n",
        "import numpy as np\n",
        "import pandas as pd\n",
        "from time import time\n",
        "\n",
        "# For image / graph visualisation\n",
        "from PIL import Image\n",
        "from matplotlib import pyplot as plt\n",
        "import seaborn as sn"
      ],
      "execution_count": 0,
      "outputs": []
    },
    {
      "cell_type": "markdown",
      "metadata": {
        "id": "2KsHLBXiO9VA",
        "colab_type": "text"
      },
      "source": [
        "# **2 IMPORTING DATA AND PRE-PROCESSING**"
      ]
    },
    {
      "cell_type": "code",
      "metadata": {
        "id": "A2I6Rsy7zub4",
        "colab_type": "code",
        "outputId": "0fcd41c6-4508-49e4-a723-5fbb6b0411fd",
        "colab": {
          "base_uri": "https://localhost:8080/",
          "height": 55
        }
      },
      "source": [
        "from google.colab import drive\n",
        "drive.mount('/content/gdrive')"
      ],
      "execution_count": 0,
      "outputs": [
        {
          "output_type": "stream",
          "text": [
            "Drive already mounted at /content/gdrive; to attempt to forcibly remount, call drive.mount(\"/content/gdrive\", force_remount=True).\n"
          ],
          "name": "stdout"
        }
      ]
    },
    {
      "cell_type": "code",
      "metadata": {
        "id": "SIHVTh6JzvF7",
        "colab_type": "code",
        "colab": {}
      },
      "source": [
        "#Please enter the desired root path, (i.e. the location of dataset on your Google Drive)\n",
        "root_path = '/content/gdrive/My Drive/Colab Notebooks/Deep_Learning/Assignment/Dataset/'"
      ],
      "execution_count": 0,
      "outputs": []
    },
    {
      "cell_type": "code",
      "metadata": {
        "id": "o_ip43KhOldQ",
        "colab_type": "code",
        "colab": {}
      },
      "source": [
        "#Data is assumed to be uploaded on the drive, from where Google Colab's working directory will use\n",
        "# root_path= given path of the dataset\"\"\n",
        "with h5py.File(root_path +'train_128.h5','r') as H:\n",
        "    raw_data = np.copy(H['data'])\n",
        "with h5py.File(root_path +'train_label.h5','r') as H:\n",
        "    raw_label = np.copy(H['label'])\n",
        "with h5py.File(root_path +'test_128.h5','r') as H:\n",
        "    raw_test_data = np.copy(H['data'])"
      ],
      "execution_count": 0,
      "outputs": []
    },
    {
      "cell_type": "markdown",
      "metadata": {
        "id": "6lUb9VtVRWTe",
        "colab_type": "text"
      },
      "source": [
        "\n",
        "## 2.1 ONE HOT ENCODING"
      ]
    },
    {
      "cell_type": "code",
      "metadata": {
        "id": "Q7ydRW0sRYgz",
        "colab_type": "code",
        "outputId": "7b47386a-85e5-4cc7-f0c4-948d5ee580e1",
        "colab": {
          "base_uri": "https://localhost:8080/",
          "height": 312
        }
      },
      "source": [
        "# Function to encode the labels in one hot format\n",
        "def onehot_encoding(list_input):\n",
        "    r = len(list_input)\n",
        "    c = len(np.unique(list_input))\n",
        "    matrix_output = np.zeros((r,c))\n",
        "    for i in range(r):\n",
        "        j = list_input[i]\n",
        "        matrix_output[i,j] = 1\n",
        "    return matrix_output\n",
        "\n",
        "# Create the onehot representation of the labels\n",
        "onehot_raw_label = onehot_encoding(raw_label)\n",
        "\n",
        "#print raw labels\n",
        "print('Shape of the label is:',raw_label.shape)\n",
        "print('\\nFirst 10 raw labels:', raw_label[0:10])\n",
        "\n",
        "#print the new format of labels\n",
        "print('\\nVerifying the shape of the labels after encoding:',onehot_raw_label.shape)\n",
        "print('\\nAbove mentioned raw labels in onehot format(first 10):\\n', onehot_raw_label[0:10])"
      ],
      "execution_count": 0,
      "outputs": [
        {
          "output_type": "stream",
          "text": [
            "Shape of the label is: (60000,)\n",
            "\n",
            "First 10 raw labels: [9 0 0 3 0 2 7 2 5 5]\n",
            "\n",
            "Verifying the shape of the labels after encoding: (60000, 10)\n",
            "\n",
            "Above mentioned raw labels in onehot format(first 10):\n",
            " [[0. 0. 0. 0. 0. 0. 0. 0. 0. 1.]\n",
            " [1. 0. 0. 0. 0. 0. 0. 0. 0. 0.]\n",
            " [1. 0. 0. 0. 0. 0. 0. 0. 0. 0.]\n",
            " [0. 0. 0. 1. 0. 0. 0. 0. 0. 0.]\n",
            " [1. 0. 0. 0. 0. 0. 0. 0. 0. 0.]\n",
            " [0. 0. 1. 0. 0. 0. 0. 0. 0. 0.]\n",
            " [0. 0. 0. 0. 0. 0. 0. 1. 0. 0.]\n",
            " [0. 0. 1. 0. 0. 0. 0. 0. 0. 0.]\n",
            " [0. 0. 0. 0. 0. 1. 0. 0. 0. 0.]\n",
            " [0. 0. 0. 0. 0. 1. 0. 0. 0. 0.]]\n"
          ],
          "name": "stdout"
        }
      ]
    },
    {
      "cell_type": "markdown",
      "metadata": {
        "id": "M21cgGHUUz5c",
        "colab_type": "text"
      },
      "source": [
        "## 2.2 Standardizing raw data"
      ]
    },
    {
      "cell_type": "code",
      "metadata": {
        "id": "QnQASwnRU9kZ",
        "colab_type": "code",
        "outputId": "495eb7ae-3406-451f-f3dd-3c5085788159",
        "colab": {
          "base_uri": "https://localhost:8080/",
          "height": 260
        }
      },
      "source": [
        "#Standardizing the raw data\n",
        "X = raw_data\n",
        "input_mean = np.mean(X, axis=0).reshape(1,X.shape[1])\n",
        "input_variance = np.var(X, axis=0).reshape(1,X.shape[1])\n",
        "Scaled_X = (X - input_mean) / np.sqrt(input_variance)\n",
        "Scaled_data = Scaled_X\n",
        "\n",
        "# Analyzing the scaled data and it's shape\n",
        "print('Shape of the scaled data remains same as raw data:',Scaled_data.shape)\n",
        "print('\\nScaled input data (First 5 rows and 5 columns) visualised:\\n\\n', Scaled_data[0:5,0:5])"
      ],
      "execution_count": 0,
      "outputs": [
        {
          "output_type": "stream",
          "text": [
            "Shape of the scaled data remains same as raw data: (60000, 128)\n",
            "\n",
            "Scaled input data (First 5 rows and 5 columns) visualised:\n",
            "\n",
            " [[-1.10929677e-01  1.84070659e+00 -2.33960186e+00  5.32005876e-01\n",
            "   6.27122889e-05]\n",
            " [ 1.24073412e+00 -5.07704675e-01 -5.02110785e-01  7.88122901e-01\n",
            "   5.20609874e-01]\n",
            " [-6.38643347e-01 -1.24229380e+00  2.07715710e-01  4.45969493e-01\n",
            "  -2.55667807e-01]\n",
            " [ 2.83367344e-02 -1.10513234e+00  3.95837890e-01  8.03035645e-01\n",
            "   4.02503524e-02]\n",
            " [ 7.09347078e-01 -1.35315583e+00 -1.44527427e+00 -5.63753347e-01\n",
            "   9.82525826e-01]]\n"
          ],
          "name": "stdout"
        }
      ]
    },
    {
      "cell_type": "markdown",
      "metadata": {
        "id": "l5rrreUIVWF7",
        "colab_type": "text"
      },
      "source": [
        "# **3 NEURAL NETWORK**"
      ]
    },
    {
      "cell_type": "code",
      "metadata": {
        "id": "UdLY0cn5VaLR",
        "colab_type": "code",
        "colab": {}
      },
      "source": [
        "#Function for visualizing the run time\n",
        "def time_secs(value):\n",
        "    if value < 60:\n",
        "        tsec = str(np.round(value,1)) + ' seconds'\n",
        "    else:\n",
        "        tsec = str(int(value // 60))+' minutes, ' + str(np.round(np.mod(value,60),1)) + ' seconds'\n",
        "    return tsec"
      ],
      "execution_count": 0,
      "outputs": []
    },
    {
      "cell_type": "markdown",
      "metadata": {
        "id": "zL7-iwYAjBx8",
        "colab_type": "text"
      },
      "source": [
        "## 3.1 Class for Activation Functions and their derivatives"
      ]
    },
    {
      "cell_type": "code",
      "metadata": {
        "id": "o9DvoV9UjIGA",
        "colab_type": "code",
        "colab": {}
      },
      "source": [
        "class Activation(object):\n",
        "    def __tanh(self, x):\n",
        "        return np.tanh(x)\n",
        "\n",
        "    def __tanh_deriv(self, a):\n",
        "        # a = np.tanh(x)   \n",
        "        return 1.0 - a**2\n",
        "    \n",
        "    def __logistic(self, x):\n",
        "        return 1.0 / (1.0 + np.exp(-x))\n",
        "\n",
        "    def __logistic_deriv(self, a):\n",
        "        # a = logistic(x) \n",
        "        return  a * (1 - a )\n",
        "    \n",
        "    def __softmax(self, x):\n",
        "        x_max = np.max(x, axis=1, keepdims=True)\n",
        "        exp_x = np.exp(x - x_max)\n",
        "        return exp_x / np.sum(exp_x, axis=1, keepdims=True)\n",
        "    \n",
        "    # Relu and leaky relu code --\n",
        "    def __relu(self, x):\n",
        "        return  x * (x > 0)\n",
        "\n",
        "    def __relu_deriv(self, a):\n",
        "        # a = relu(x)\n",
        "        a_grad = 1. * (a > 0)\n",
        "        return a_grad\n",
        "    \n",
        "    def __leaky_relu(self, x):\n",
        "        return x * (x >= 0) + 0.1 * x * (x < 0)\n",
        "\n",
        "    def __leaky_relu_deriv(self, a):\n",
        "        # a = leaky_relu(x)\n",
        "        return 1. * (a >= 0) - 0.1 * (a < 0)\n",
        "    \n",
        "    # def __softmax_deriv(self, a):\n",
        "        # Derivative not required to be separate, incorporated into cross-entropy\n",
        "        # return a_grad\n",
        "    \n",
        "    def __init__(self,activation='tanh'):\n",
        "        if activation == 'logistic':\n",
        "            self.f = self.__logistic\n",
        "            self.f_deriv = self.__logistic_deriv\n",
        "        elif activation == 'tanh':\n",
        "            self.f = self.__tanh\n",
        "            self.f_deriv = self.__tanh_deriv\n",
        "        elif activation == 'relu':\n",
        "            self.f = self.__relu\n",
        "            self.f_deriv = self.__relu_deriv\n",
        "        elif activation == 'leaky_relu':\n",
        "            self.f = self.__leaky_relu\n",
        "            self.f_deriv = self.__leaky_relu_deriv\n",
        "        elif activation == 'softmax':\n",
        "            self.f = self.__softmax\n",
        "            # self.f_deriv = self.__softmax_deriv"
      ],
      "execution_count": 0,
      "outputs": []
    },
    {
      "cell_type": "markdown",
      "metadata": {
        "id": "q-8yi_2Dj1L8",
        "colab_type": "text"
      },
      "source": [
        "## 3.2 Class for Hidden Layer "
      ]
    },
    {
      "cell_type": "code",
      "metadata": {
        "id": "Ndvdbr9tj0Ro",
        "colab_type": "code",
        "colab": {}
      },
      "source": [
        "class HiddenLayer(object):    \n",
        "    def __init__(self, n_in, n_out,\n",
        "                 activation_last_layer='tanh',activation='tanh', W=None, b=None):\n",
        "    \n",
        "        self.input=None\n",
        "        self.activation=Activation(activation).f\n",
        "        self.act_name=activation # name of the activation to prevent dropout on last layer\n",
        "        \n",
        "        # activation deriv of last layer\n",
        "        self.activation_deriv=None\n",
        "        if activation_last_layer:\n",
        "            self.activation_deriv=Activation(activation_last_layer).f_deriv\n",
        "\n",
        "        self.W = np.random.uniform(\n",
        "                low=-np.sqrt(6. / (n_in + n_out)),\n",
        "                high=np.sqrt(6. / (n_in + n_out)),\n",
        "                size=(n_in, n_out)\n",
        "        )\n",
        "\n",
        "        if activation == 'logistic':\n",
        "            self.W *= 4\n",
        "\n",
        "        self.b = np.zeros(n_out,)\n",
        "        \n",
        "        self.grad_W = np.zeros(self.W.shape)\n",
        "        self.grad_b = np.zeros(self.b.shape)\n",
        "        \n",
        "        # Adding the momentum terms\n",
        "        self.W_v = np.zeros(self.W.shape)\n",
        "        self.b_v = np.zeros(self.b.shape)\n",
        "        \n",
        "        # Adding the batchnorm terms\n",
        "        self.gamma = np.ones((1, int(np.prod(n_out))))\n",
        "        self.beta = np.zeros((1, int(np.prod(n_out))))      \n",
        "     \n",
        "     #Defining the forward propagation function   \n",
        "    def forward(self, input, percent_dropout = 0, batch_norm  = True):\n",
        "        \n",
        "        lin_output = np.dot(input, self.W) + self.b\n",
        "        \n",
        "        # Confirming the layer is not the outermost layer\n",
        "        if (self.act_name != 'softmax'):\n",
        "            \n",
        "            # Forward Batch Normalization:\n",
        "            if batch_norm  == True: \n",
        "                mean_of_batch = np.mean(lin_output)\n",
        "                variance_of_batch = np.var(lin_output)\n",
        "                self.batch_standard_deviation = np.sqrt(variance_of_batch + 1e-8) # added number for numerical stability\n",
        "                self.lin_output_hat = (lin_output - mean_of_batch) / self.batch_standard_deviation\n",
        "                lin_output = self.gamma * self.lin_output_hat + self.beta\n",
        "            \n",
        "            # Correcting the Dropouts in Forward propagation\n",
        "            if percent_dropout > 0:\n",
        "                self.masks = np.random.binomial(1, (1 - percent_dropout), size=lin_output.shape) \n",
        "                lin_output = lin_output * self.masks / (1 - percent_dropout)\n",
        "                  \n",
        "        self.output = (\n",
        "            lin_output if self.activation is None\n",
        "            else self.activation(lin_output)\n",
        "        )\n",
        "        self.input=input\n",
        "        return self.output\n",
        "    \n",
        "    #Defining the forward propagation function\n",
        "    def backward(self, delta, percent_dropout = 0, batch_norm  = True, lambada = 0.1, output_layer=False):\n",
        "\n",
        "        self.grad_W = np.atleast_2d(self.input).T.dot(np.atleast_2d(delta)) - lambada/self.input.shape[0]*self.W\n",
        "        self.grad_b = delta\n",
        "        \n",
        "        # Confirming the layer is not the outermost layer\n",
        "        if (self.act_name != 'softmax'):\n",
        "            \n",
        "            # Correcting the Dropouts in Backward propagation\n",
        "            if percent_dropout > 0:\n",
        "                delta = self.masks * delta / (1 - percent_dropout)\n",
        "            \n",
        "            #L2 Regularization term being added\n",
        "            if lambada > 0:\n",
        "                self.grad_W = np.atleast_2d(self.input).T.dot(np.atleast_2d(delta)) - lambada/self.input.shape[0]*self.W\n",
        "                \n",
        "            # Backward Batch Normalization:\n",
        "            if batch_norm  == True:\n",
        "                delta_n = delta.shape[0]\n",
        "                beta_d = np.sum(delta, axis=0)\n",
        "                gamma_d = np.sum(self.lin_output_hat * delta, axis=0)\n",
        "                delta = (self.gamma * (1 / self.batch_standard_deviation) / delta_n) * (delta_n * delta - self.lin_output_hat * gamma_d - beta_d)\n",
        "            \n",
        "        if self.activation_deriv:    \n",
        "            delta = delta.dot(self.W.T) * self.activation_deriv(self.input)\n",
        "           \n",
        "        return delta"
      ],
      "execution_count": 0,
      "outputs": []
    },
    {
      "cell_type": "markdown",
      "metadata": {
        "id": "Io3FI0PrkCcI",
        "colab_type": "text"
      },
      "source": [
        "## 3.3 Class for The MLP "
      ]
    },
    {
      "cell_type": "code",
      "metadata": {
        "id": "nR_wVe3ekHHq",
        "colab_type": "code",
        "colab": {}
      },
      "source": [
        "class MLP:\n",
        "       \n",
        "    def __init__(self, layers, activation=[None,'tanh','tanh']):\n",
        "        \n",
        "        ### initialize the layers\n",
        "        self.layers=[]\n",
        "        self.params=[]\n",
        "        \n",
        "        print('Layers:', layers)\n",
        "        print('Activations:', activation,'\\n')\n",
        "        \n",
        "        self.activation=activation\n",
        "        for i in range(len(layers)-1):\n",
        "            self.layers.append(HiddenLayer(layers[i],layers[i+1],activation[i],activation[i+1]))\n",
        "    \n",
        "    #Forward propagation\n",
        "    def forward(self, input, percent_dropout = 0, batch_norm =True):\n",
        "        for layer in self.layers:\n",
        "            output=layer.forward(input, percent_dropout, batch_norm )\n",
        "            input=output\n",
        "        return output\n",
        "    \n",
        "    #Cross entropy criterion (The one we are using)\n",
        "    def crossentropy_criterion(self, y_actual, y_hat, lambada = 0.1):\n",
        "        no_of_samples = y_actual.shape[0]\n",
        "        delta = (y_hat - y_actual) / no_of_samples\n",
        "        loss = np.sum(- np.log(y_hat[np.arange(no_of_samples), y_actual.argmax(axis=1)]))/ no_of_samples\n",
        "        \n",
        "        # Function to compute the L2 Regularization cost\n",
        "        if lambada > 0:\n",
        "            for layer in self.layers:\n",
        "                L2_Regularization_loss = (np.sum(np.square(layer.W)))*(lambada/(2*no_of_samples))\n",
        "                loss = loss + L2_Regularization_loss\n",
        "        \n",
        "        return loss, delta\n",
        "    \n",
        "    #Backwards propagation of the information\n",
        "    def backward(self,delta, percent_dropout = 0, batch_norm =True, lambada = 0.1):\n",
        "        delta=self.layers[-1].backward(delta,output_layer=True)\n",
        "        for layer in reversed(self.layers[:-1]):\n",
        "            delta=layer.backward(delta, percent_dropout, batch_norm, lambada)\n",
        "     \n",
        "    #Updating the parameters:\n",
        "    def update_parameters(self, lrate, momentum_of_gamma = 0.5):\n",
        "        for layer in self.layers:\n",
        "            # Momentum adjustments\n",
        "            layer.W_v = momentum_of_gamma * layer.W_v + lrate * layer.grad_W\n",
        "            layer.b_v = momentum_of_gamma * layer.b_v + lrate * np.mean(layer.grad_b, axis = 0)\n",
        "            layer.b -= layer.b_v\n",
        "            layer.W -= layer.W_v          \n",
        "            \n",
        "            \n",
        "    #Fitting the model with the training function with relevant regularization methods\n",
        "    def fit(self,X,y,learning_rate=0.1, epochs=100, mini_batch_size = 1, \n",
        "            loss_function = 'cross-entropy', percent_dropout = 0, interval_reported = 50,\n",
        "            momentum_of_gamma = 0.5, batch_norm  = True, lambada = .1, convergence_threshold = 0.1):\n",
        "        \n",
        "        X=np.array(X)\n",
        "        y=np.array(y)\n",
        "        ret = np.zeros(epochs)\n",
        "        \n",
        "        no_of_samples = X.shape[0]\n",
        "        no_of_classes = y.shape[1]\n",
        "        print('Total planned number of epochs:', epochs)\n",
        "        print('Convergence threshold (min change in loss per report interval):', str(convergence_threshold)+'%')\n",
        "        print('Total number of classes:',no_of_classes)\n",
        "        print('Total number of training samples:',no_of_samples)\n",
        "        print('Each batch size:', mini_batch_size)\n",
        "        no_of_batches = no_of_samples // mini_batch_size\n",
        "        print('Total number of batches:', no_of_batches,'\\n')\n",
        "        early_loss=0\n",
        "        converge = False\n",
        "        epoch_start_time = time()\n",
        "        \n",
        "        #Looping though the epochs:\n",
        "        for p in range(epochs):        \n",
        "            loss = np.zeros(no_of_batches)\n",
        "            delta = np.zeros((no_of_batches, no_of_classes))\n",
        "            \n",
        "            #Looping through the mini batches:\n",
        "            for k in range(no_of_batches):                \n",
        "                ix0 = k * mini_batch_size\n",
        "                ix1 = (k+1) * mini_batch_size\n",
        "                mini_batch = X[ix0:ix1]\n",
        "                \n",
        "                #forwards propagation\n",
        "                y_hat = self.forward(mini_batch, percent_dropout, batch_norm)\n",
        "                y_actual = y[ix0:ix1]\n",
        "                \n",
        "                #The loss output\n",
        "                loss[k], delta = self.crossentropy_criterion(y_actual, y_hat, lambada)\n",
        "                \n",
        "                #Back propogation\n",
        "                self.backward(delta, percent_dropout, batch_norm, lambada)\n",
        "                self.update_parameters(lrate, momentum_of_gamma)\n",
        "            \n",
        "            #Take the mean of all the mini batches\n",
        "            mean_loss = np.mean(loss)\n",
        "            \n",
        "            #Checking the convergence of the model\n",
        "            if p % interval_reported == 0:\n",
        "                epoch_elapsed_time = (time() - epoch_start_time)\n",
        "                epoch_start_time = time() # reset\n",
        "                print('Epoch: '+ str(p) + \",   Time: \" + time_secs(epoch_elapsed_time) +\",   Loss: \", \n",
        "                      np.round(mean_loss,8))\n",
        "                if early_loss > 0:\n",
        "                    change_in_loss = (early_loss - mean_loss) / early_loss\n",
        "                    if change_in_loss < (convergence_threshold / 100):\n",
        "                        converge = True\n",
        "                early_loss = mean_loss\n",
        "                    \n",
        "            ret[p] = mean_loss\n",
        "            if converge:\n",
        "                print('\\nConvergence criteria achieved. Training completed (at epoch '+str(p)+').')\n",
        "                return ret[0:p]\n",
        "        print('\\nMaximum no of planned epochs achieved. Training completed (at epoch '+str(p)+').')\n",
        "        return ret\n",
        "    \n",
        "    def predict(self, x, no_of_classes):\n",
        "       \n",
        "        x = np.array(x)\n",
        "        output = np.zeros((x.shape[0], no_of_classes))\n",
        "        for i in np.arange(x.shape[0]):\n",
        "            output[i] = nn.forward(np.atleast_2d(x[i,:]))\n",
        "        return output"
      ],
      "execution_count": 0,
      "outputs": []
    },
    {
      "cell_type": "markdown",
      "metadata": {
        "id": "DDTDcV53kksV",
        "colab_type": "text"
      },
      "source": [
        "## 3.4 Initialising Hyperparameters for further tuning"
      ]
    },
    {
      "cell_type": "code",
      "metadata": {
        "id": "wvoMHTxvmzgg",
        "colab_type": "code",
        "colab": {}
      },
      "source": [
        "# Define the architecture of NN\n",
        "\n",
        "primary_activation = 'relu'         # 'leaky_relu', 'relu', 'logistic' or 'tanh'\n",
        "HL_neurons = [1024, 64]\n",
        "\n",
        "# Define various hyperparameters\n",
        "#All these are further tuned for getting the best result\n",
        "\n",
        "lrate = 0.04                   # learning rate\n",
        "size_of_batch = 500            # batch size of the mini batches\n",
        "percent_dropout = 0.25         # percentage of neurons to turn off (all layers except last); \n",
        "                                 # set to zero to disable this feature\n",
        "momentum_of_gamma = 0.7        # parameter for momentum of gamma\n",
        "batch_norm  = False            # Batch normalisation toggle value\n",
        "lambada = 0.003                # Weight decay parameter used for L2 regularisation\n",
        "\n",
        "# Defined stopping and reporting conditions\n",
        "\n",
        "planned_epochs = 1000             # maximum planned no of epochs\n",
        "interval_reported = 10            # frequency of reporting time (including loss percentage every time)\n",
        "convergence_threshold = 0.1       # convergence threshold (for percent change of loss per reporting interval)"
      ],
      "execution_count": 0,
      "outputs": []
    },
    {
      "cell_type": "markdown",
      "metadata": {
        "id": "2GsVkmcnvLyP",
        "colab_type": "text"
      },
      "source": [
        "## 3.5 Initialising NN"
      ]
    },
    {
      "cell_type": "code",
      "metadata": {
        "id": "4faXduf8o8hw",
        "colab_type": "code",
        "outputId": "3a7d919c-1298-4ddf-ded1-28ac860bc55d",
        "colab": {
          "base_uri": "https://localhost:8080/",
          "height": 87
        }
      },
      "source": [
        "# Determine neural network architecture\n",
        "no_of_features = raw_data.shape[1]\n",
        "no_of_classes = onehot_raw_label.shape[1]\n",
        "\n",
        "# Assign neurons and activations\n",
        "final_layer_activation = 'softmax'          \n",
        "def_loss_function = 'cross-entropy'   # loss function to be fed into optimiser ('cross-entropy' or 'MSE')\n",
        "\n",
        "each_layer_neuron = np.append(np.append(no_of_features,HL_neurons),no_of_classes)\n",
        "\n",
        "each_layer_activation = [None]\n",
        "for i in range(1,len(each_layer_neuron)-1):\n",
        "    each_layer_activation = np.append(each_layer_activation, primary_activation)\n",
        "each_layer_activation = np.append(each_layer_activation, final_layer_activation)\n",
        "\n",
        "# Initialising the neural network\n",
        "nn = MLP(each_layer_neuron, each_layer_activation)\n",
        "print('Neural network is initialised.')\n"
      ],
      "execution_count": 0,
      "outputs": [
        {
          "output_type": "stream",
          "text": [
            "Layers: [ 128 1024   64   10]\n",
            "Activations: [None 'relu' 'relu' 'softmax'] \n",
            "\n",
            "Neural network is initialised.\n"
          ],
          "name": "stdout"
        }
      ]
    },
    {
      "cell_type": "markdown",
      "metadata": {
        "id": "bLW7ngdHpEoY",
        "colab_type": "text"
      },
      "source": [
        "## 3.6 Class for Predicting Accuracy"
      ]
    },
    {
      "cell_type": "code",
      "metadata": {
        "id": "UGnRSw4Yrprb",
        "colab_type": "code",
        "colab": {}
      },
      "source": [
        "# Determining accuracy (ZP Code)\n",
        "def model_accuracy (y_actual, y_pred):\n",
        "    s = y_actual.shape[0]\n",
        "    print('Count:', s)\n",
        "    m = np.sum(y_pred == y_actual)\n",
        "    print('Matches:', m)\n",
        "    acc = m / s\n",
        "    return acc\n",
        "\n",
        "def class_output (y_hat):\n",
        "    y_pred = np.argmax(y_hat, axis=1)\n",
        "    return y_pred"
      ],
      "execution_count": 0,
      "outputs": []
    },
    {
      "cell_type": "markdown",
      "metadata": {
        "id": "XkZckgwTrxPt",
        "colab_type": "text"
      },
      "source": [
        "# 4 TRAINING THE MODEL"
      ]
    },
    {
      "cell_type": "markdown",
      "metadata": {
        "id": "xBFJRBNFwJwr",
        "colab_type": "text"
      },
      "source": [
        "## 4.1 Split the dataset"
      ]
    },
    {
      "cell_type": "code",
      "metadata": {
        "id": "J75ZYKqLs7mt",
        "colab_type": "code",
        "colab": {}
      },
      "source": [
        "#splitting the given dataset into test and training to determine accuracy\n",
        "def train_test_split(m_train, Scaled_data,onehot_raw_label): \n",
        "  train_n= int(m_train*Scaled_data.shape[0])\n",
        "  return Scaled_data[:train_n], Scaled_data[train_n:], onehot_raw_label[:train_n],onehot_raw_label[train_n:]\n",
        "\n",
        "m_train = 0.8 #80-20 split of training and test data \n",
        "train_scaled_data, test_scaled_data, selected_train_label, selected_test_label = train_test_split(m_train,Scaled_data,onehot_raw_label)"
      ],
      "execution_count": 0,
      "outputs": []
    },
    {
      "cell_type": "markdown",
      "metadata": {
        "id": "XVPId589wRuB",
        "colab_type": "text"
      },
      "source": [
        "## 4.2 Fit the Model"
      ]
    },
    {
      "cell_type": "code",
      "metadata": {
        "id": "UQAhn3I1sYEa",
        "colab_type": "code",
        "outputId": "5fa5df73-0b77-41c3-8143-03d2449393f9",
        "colab": {
          "base_uri": "https://localhost:8080/",
          "height": 849
        }
      },
      "source": [
        "starting_time = time()\n",
        "\n",
        "# Initialise the neural network\n",
        "nn = MLP(each_layer_neuron, each_layer_activation)\n",
        "print('Neural network is initialised.')\n",
        "\n",
        "np.random.seed(10)\n",
        "starting_time = time()\n",
        "\n",
        "# Train the neural network\n",
        "nn_loss_optimised = nn.fit(train_scaled_data, selected_train_label, learning_rate=lrate, \n",
        "                      epochs=planned_epochs, mini_batch_size = size_of_batch, loss_function = def_loss_function,\n",
        "                      percent_dropout=percent_dropout, interval_reported=interval_reported, batch_norm =batch_norm,\n",
        "                      lambada=lambada, convergence_threshold=convergence_threshold)\n",
        "    \n",
        "elapsed_time = time() - starting_time\n",
        "print(\"\\nTraining time taken is:\", time_secs(elapsed_time))\n",
        "    \n",
        "print('\\nLoss:%f'%nn_loss_optimised[-1])"
      ],
      "execution_count": 0,
      "outputs": [
        {
          "output_type": "stream",
          "text": [
            "Layers: [ 128 1024   64   10]\n",
            "Activations: [None 'relu' 'relu' 'softmax'] \n",
            "\n",
            "Neural network is initialised.\n",
            "Total planned number of epochs: 1000\n",
            "Convergence threshold (min change in loss per report interval): 0.1%\n",
            "Total number of classes: 10\n",
            "Total number of training samples: 48000\n",
            "Each batch size: 500\n",
            "Total number of batches: 96 \n",
            "\n",
            "Epoch: 0,   Time: 6.6 seconds,   Loss:  1.46994624\n",
            "Epoch: 10,   Time: 1 minutes, 4.9 seconds,   Loss:  0.35898048\n",
            "Epoch: 20,   Time: 1 minutes, 5.1 seconds,   Loss:  0.28730881\n",
            "Epoch: 30,   Time: 1 minutes, 4.9 seconds,   Loss:  0.24280275\n",
            "Epoch: 40,   Time: 1 minutes, 4.9 seconds,   Loss:  0.21250273\n",
            "Epoch: 50,   Time: 1 minutes, 5.4 seconds,   Loss:  0.18499833\n",
            "Epoch: 60,   Time: 1 minutes, 4.8 seconds,   Loss:  0.16966655\n",
            "Epoch: 70,   Time: 1 minutes, 5.5 seconds,   Loss:  0.15079539\n",
            "Epoch: 80,   Time: 1 minutes, 5.2 seconds,   Loss:  0.13489926\n",
            "Epoch: 90,   Time: 1 minutes, 5.4 seconds,   Loss:  0.12364697\n",
            "Epoch: 100,   Time: 1 minutes, 5.8 seconds,   Loss:  0.11601619\n",
            "Epoch: 110,   Time: 1 minutes, 5.9 seconds,   Loss:  0.10773458\n",
            "Epoch: 120,   Time: 1 minutes, 11.7 seconds,   Loss:  0.09785051\n",
            "Epoch: 130,   Time: 1 minutes, 7.0 seconds,   Loss:  0.09428567\n",
            "Epoch: 140,   Time: 1 minutes, 6.9 seconds,   Loss:  0.08699293\n",
            "Epoch: 150,   Time: 1 minutes, 6.9 seconds,   Loss:  0.08220128\n",
            "Epoch: 160,   Time: 1 minutes, 6.7 seconds,   Loss:  0.07702337\n",
            "Epoch: 170,   Time: 1 minutes, 6.5 seconds,   Loss:  0.07535169\n",
            "Epoch: 180,   Time: 1 minutes, 6.2 seconds,   Loss:  0.06861056\n",
            "Epoch: 190,   Time: 1 minutes, 6.4 seconds,   Loss:  0.06638728\n",
            "Epoch: 200,   Time: 1 minutes, 5.4 seconds,   Loss:  0.06610269\n",
            "Epoch: 210,   Time: 1 minutes, 10.9 seconds,   Loss:  0.06054016\n",
            "Epoch: 220,   Time: 1 minutes, 5.0 seconds,   Loss:  0.05808572\n",
            "Epoch: 230,   Time: 1 minutes, 4.7 seconds,   Loss:  0.05701901\n",
            "Epoch: 240,   Time: 1 minutes, 4.8 seconds,   Loss:  0.05511915\n",
            "Epoch: 250,   Time: 1 minutes, 4.6 seconds,   Loss:  0.05050912\n",
            "Epoch: 260,   Time: 1 minutes, 4.6 seconds,   Loss:  0.04932966\n",
            "Epoch: 270,   Time: 1 minutes, 4.7 seconds,   Loss:  0.04882936\n",
            "Epoch: 280,   Time: 1 minutes, 4.8 seconds,   Loss:  0.04722626\n",
            "Epoch: 290,   Time: 1 minutes, 5.4 seconds,   Loss:  0.04475033\n",
            "Epoch: 300,   Time: 1 minutes, 5.0 seconds,   Loss:  0.04478335\n",
            "\n",
            "Convergence criteria achieved. Training completed (at epoch 300).\n",
            "\n",
            "Training time taken is: 33 minutes, 2.8 seconds\n",
            "\n",
            "Loss:0.043385\n"
          ],
          "name": "stdout"
        }
      ]
    },
    {
      "cell_type": "markdown",
      "metadata": {
        "id": "ZHAvtWUCwb-K",
        "colab_type": "text"
      },
      "source": [
        "## 4.3 Visualize epoch-wise loss"
      ]
    },
    {
      "cell_type": "code",
      "metadata": {
        "id": "aVsGpbCx3sRS",
        "colab_type": "code",
        "outputId": "d85b5057-5eef-4f43-cf23-2f6524ca2be4",
        "colab": {
          "base_uri": "https://localhost:8080/",
          "height": 285
        }
      },
      "source": [
        "#Visualizing epoch wise loss\n",
        "\n",
        "plt.figure(figsize=(15,4))\n",
        "plt.title('Loss Decay')\n",
        "plt.xlabel('Epochs run')\n",
        "plt.ylabel('Loss')\n",
        "plt.plot(nn_loss_optimised)\n",
        "plt.grid()"
      ],
      "execution_count": 0,
      "outputs": [
        {
          "output_type": "display_data",
          "data": {
            "image/png": "[encoded data removed]",
            "text/plain": [
              "<Figure size 1080x288 with 1 Axes>"
            ]
          },
          "metadata": {
            "tags": [],
            "needs_background": "light"
          }
        }
      ]
    },
    {
      "cell_type": "markdown",
      "metadata": {
        "id": "SPqvqARBsqym",
        "colab_type": "text"
      },
      "source": [
        "# 5 PREDICTIONS AND ACCURACY"
      ]
    },
    {
      "cell_type": "code",
      "metadata": {
        "id": "DYhx_2VMpX36",
        "colab_type": "code",
        "colab": {}
      },
      "source": [
        "# Function to build confusion matrix\n",
        "\n",
        "def build_confusion_matrix(y_actual, y_pred):\n",
        "    n_i = len(np.unique(y_actual))\n",
        "    n_j = len(np.unique(y_pred))\n",
        "    print(n_i, n_j)\n",
        "    cm = np.zeros((n_i, n_j))\n",
        "    for it in range(len(y_actual)):\n",
        "        i = y_actual[it]\n",
        "        j = y_pred[it]\n",
        "        cm[i,j] += 1\n",
        "    return cm"
      ],
      "execution_count": 0,
      "outputs": []
    },
    {
      "cell_type": "markdown",
      "metadata": {
        "id": "NFrVqN1osyLD",
        "colab_type": "text"
      },
      "source": [
        "## 5.1 Prediction of train splitted data"
      ]
    },
    {
      "cell_type": "code",
      "metadata": {
        "id": "t7uvAZXMs1bi",
        "colab_type": "code",
        "outputId": "d37dfca3-05b6-4324-d2e1-98a887e7d6fd",
        "colab": {
          "base_uri": "https://localhost:8080/",
          "height": 69
        }
      },
      "source": [
        "#Calculating the accuracy of the 80% of raw data, on which model was trained\n",
        "Y_hat_test = nn.predict(train_scaled_data, no_of_classes)\n",
        "y_predic_train = class_output(Y_hat_test)\n",
        "print('Accuracy of trained dataset: ',model_accuracy(y_predic_train,class_output(selected_train_label))*100)"
      ],
      "execution_count": 0,
      "outputs": [
        {
          "output_type": "stream",
          "text": [
            "Count: 48000\n",
            "Matches: 47786\n",
            "Accuracy of trained dataset:  99.55416666666666\n"
          ],
          "name": "stdout"
        }
      ]
    },
    {
      "cell_type": "code",
      "metadata": {
        "id": "2yArf7lPpdYI",
        "colab_type": "code",
        "outputId": "3a8548c8-b556-47f0-adc8-fa21eb2ad4e4",
        "colab": {
          "base_uri": "https://localhost:8080/",
          "height": 445
        }
      },
      "source": [
        "# Plot the confusion matrix of trained data\n",
        "\n",
        "cm = build_confusion_matrix(y_predic_train,class_output(selected_train_label))\n",
        "df_cm = pd.DataFrame(cm, index = [i for i in range(10)],\n",
        "                  columns = [i for i in range(10)])\n",
        "plt.figure(figsize = (10,7))\n",
        "sn.heatmap(df_cm, annot=True)\n",
        "plt.show()"
      ],
      "execution_count": 0,
      "outputs": [
        {
          "output_type": "stream",
          "text": [
            "10 10\n"
          ],
          "name": "stdout"
        },
        {
          "output_type": "display_data",
          "data": {
            "image/png": "[encoded data removed]",
            "text/plain": [
              "<Figure size 720x504 with 2 Axes>"
            ]
          },
          "metadata": {
            "tags": [],
            "needs_background": "light"
          }
        }
      ]
    },
    {
      "cell_type": "markdown",
      "metadata": {
        "id": "lYI15YVIs2Pc",
        "colab_type": "text"
      },
      "source": [
        "## 5.2 Prediction of test splitted data"
      ]
    },
    {
      "cell_type": "code",
      "metadata": {
        "id": "yQ07_cpIs5B5",
        "colab_type": "code",
        "outputId": "b493e3de-6737-4dbc-d612-81497256f094",
        "colab": {
          "base_uri": "https://localhost:8080/",
          "height": 69
        }
      },
      "source": [
        "#Calculating the accuracy of the 20% of raw data, on which model was to be tested\n",
        "\n",
        "Y_hat_test = nn.predict(test_scaled_data, no_of_classes)\n",
        "y_predic_test = class_output(Y_hat_test)\n",
        "print('Accuracy of split tested dataset: ',model_accuracy(y_predic_test,class_output(selected_test_label))*100)"
      ],
      "execution_count": 0,
      "outputs": [
        {
          "output_type": "stream",
          "text": [
            "Count: 12000\n",
            "Matches: 10825\n",
            "Accuracy of split tested dataset:  90.20833333333333\n"
          ],
          "name": "stdout"
        }
      ]
    },
    {
      "cell_type": "code",
      "metadata": {
        "id": "Oq-l--I3rk72",
        "colab_type": "code",
        "outputId": "c14f80d5-173c-4519-ab94-42e41217774b",
        "colab": {
          "base_uri": "https://localhost:8080/",
          "height": 445
        }
      },
      "source": [
        "# Plot the confusion matrix of trained data\n",
        "\n",
        "cm = build_confusion_matrix(y_predic_test,class_output(selected_test_label))\n",
        "df_cm = pd.DataFrame(cm, index = [i for i in range(10)],\n",
        "                  columns = [i for i in range(10)])\n",
        "plt.figure(figsize = (10,7))\n",
        "sn.heatmap(df_cm, annot=True)\n",
        "plt.show()"
      ],
      "execution_count": 0,
      "outputs": [
        {
          "output_type": "stream",
          "text": [
            "10 10\n"
          ],
          "name": "stdout"
        },
        {
          "output_type": "display_data",
          "data": {
            "image/png": "[encoded data removed]",
            "text/plain": [
              "<Figure size 720x504 with 2 Axes>"
            ]
          },
          "metadata": {
            "tags": [],
            "needs_background": "light"
          }
        }
      ]
    },
    {
      "cell_type": "markdown",
      "metadata": {
        "id": "SxIe6qVzs5ap",
        "colab_type": "text"
      },
      "source": [
        "## 5.3 Predicting output labels"
      ]
    },
    {
      "cell_type": "code",
      "metadata": {
        "id": "tqeWmweGs8U5",
        "colab_type": "code",
        "outputId": "bf52f662-8988-4b8f-ae4a-0561b2a892d1",
        "colab": {
          "base_uri": "https://localhost:8080/",
          "height": 52
        }
      },
      "source": [
        "Y_hat_test = nn.predict(raw_test_data, no_of_classes)\n",
        "y_predic_test_labels = class_output(Y_hat_test)\n",
        "print('Predicted labels:', y_predic_test_labels.shape, '\\n', y_predic_test_labels)"
      ],
      "execution_count": 0,
      "outputs": [
        {
          "output_type": "stream",
          "text": [
            "Predicted labels: (10000,) \n",
            " [9 2 1 ... 8 1 7]\n"
          ],
          "name": "stdout"
        }
      ]
    },
    {
      "cell_type": "markdown",
      "metadata": {
        "id": "LOgVP34Us8qx",
        "colab_type": "text"
      },
      "source": [
        "# 6 EXPORTING OUTPUT LABELS TO FILE"
      ]
    },
    {
      "cell_type": "code",
      "metadata": {
        "id": "qnIrrXG0tGRW",
        "colab_type": "code",
        "colab": {}
      },
      "source": [
        "export_file = h5py.File(root_path +'Predicted_labels.h5', 'w')\n",
        "export_file.create_dataset('label', data=y_predic_test_labels)\n",
        "export_file.close()"
      ],
      "execution_count": 0,
      "outputs": []
    }
  ]
}